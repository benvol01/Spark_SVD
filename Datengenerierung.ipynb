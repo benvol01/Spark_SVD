import numpy as np
import pandas as pd
import matplotlib.pyplot as plt

def generate_dataset_varying_p(n_samples=300, p_values=None, target_r_squared=0.7):
    """
    Generiert einen Datensatz für die Singulärwertzerlegung (SVD) für verschiedene Werte von p.
    
    Args:
        n_samples (int): Anzahl der Stichproben pro Datensatz.
        p_values (list): Liste von Werten für die Anzahl der Features (p).
        target_r_squared (float): Gewünschte Korrelation zwischen den Features und Zielwerten.
    
    Returns:
        dict: Ein Dictionary mit den generierten Datensätzen für die jeweiligen p-Werte.
    """
    if p_values is None:
        p_values = [10, 20, 30, 40, 50, 60, 70, 80, 90, 100]  # Standardwerte für p
    
    datasets = {}
    
    for p in p_values:
        # Generiere zufällige Koeffizienten
        np.random.seed(31)
        true_coef = np.random.randn(p)
        
        # Generiere die Feature-Matrix X
        X = np.random.randn(n_samples, p)
        
        # Füge eine konstante Eins-Spalte hinzu (Bias-Term)
        X = np.column_stack((X[:, :-1], np.ones(X.shape[0])))
        
        # Berechnen der Zielwerte y (ohne Rauschen)
        y_clean = np.dot(X, true_coef)
        
        # Füge Rauschen hinzu
        noise = np.random.randn(n_samples) * np.sqrt(1 - target_r_squared)
        y = y_clean + noise
        
        # Speichere den Datensatz in einem Dictionary
        datasets[p] = (X, y)
    
    return datasets

# Beispielverwendung
p_values = [10, 50, 100, 250, 500, 1000, 2000, 5000, 10000, 15000]
datasets = generate_dataset_varying_p(p_values=p_values)

# Ausgabe der ersten fünf Zeilen des Datensatzes für p = 10
X, y = datasets[15000]
print("Feature-Matrix X (p=10):\n", X[:5])
print("Zielwert y (p=10):\n", y[:5])
